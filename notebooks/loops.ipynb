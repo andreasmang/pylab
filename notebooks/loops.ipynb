{
 "cells": [
  {
   "cell_type": "markdown",
   "id": "9ba8b7a5",
   "metadata": {},
   "source": [
    "# Loops in Python\n",
    "\n",
    "This notebook introduces and demonstrates the use of loops in Python: `for` loops and `while` loops."
   ]
  },
  {
   "cell_type": "markdown",
   "id": "638386f8",
   "metadata": {},
   "source": [
    "## For Loops\n",
    "`for` loops are used to iterate over a sequence (like a list, tuple, or string)."
   ]
  },
  {
   "cell_type": "code",
   "execution_count": null,
   "id": "9272fc36",
   "metadata": {},
   "outputs": [],
   "source": [
    "# Looping through a list\n",
    "fruits = [\"apple\", \"banana\", \"cherry\"]\n",
    "for fruit in fruits:\n",
    "    print(fruit)"
   ]
  },
  {
   "cell_type": "markdown",
   "id": "f513a8cf",
   "metadata": {},
   "source": [
    "### Using `range()` with `for` loops"
   ]
  },
  {
   "cell_type": "code",
   "execution_count": null,
   "id": "89507bf0",
   "metadata": {},
   "outputs": [],
   "source": [
    "# Using range to loop over numbers\n",
    "for i in range(5):\n",
    "    print(\"Number:\", i)"
   ]
  },
  {
   "cell_type": "markdown",
   "id": "0227157e",
   "metadata": {},
   "source": [
    "## While Loops\n",
    "A `while` loop runs as long as a condition is `True`."
   ]
  },
  {
   "cell_type": "code",
   "execution_count": null,
   "id": "08e13dc6",
   "metadata": {},
   "outputs": [],
   "source": [
    "# Basic while loop\n",
    "count = 0\n",
    "while count < 5:\n",
    "    print(\"Count:\", count)\n",
    "    count += 1"
   ]
  },
  {
   "cell_type": "markdown",
   "id": "e6f2aabc",
   "metadata": {},
   "source": [
    "## `break` and `continue`\n",
    "Use `break` to exit a loop and `continue` to skip the current iteration."
   ]
  },
  {
   "cell_type": "code",
   "execution_count": null,
   "id": "4cab2e2b",
   "metadata": {},
   "outputs": [],
   "source": [
    "# Using break and continue\n",
    "for i in range(10):\n",
    "    if i == 5:\n",
    "        break  # Exit loop\n",
    "    if i % 2 == 0:\n",
    "        continue  # Skip even numbers\n",
    "    print(\"Odd number before 5:\", i)"
   ]
  },
  {
   "cell_type": "markdown",
   "id": "ef2d4444",
   "metadata": {},
   "source": [
    "## Nested Loops\n",
    "You can use one loop inside another."
   ]
  },
  {
   "cell_type": "code",
   "execution_count": null,
   "id": "d8b51b21",
   "metadata": {},
   "outputs": [],
   "source": [
    "# Nested loop example\n",
    "for i in range(3):\n",
    "    for j in range(2):\n",
    "        print(f\"i={i}, j={j}\")"
   ]
  },
  {
   "cell_type": "markdown",
   "id": "a6f6ea38",
   "metadata": {},
   "source": [
    "## Loops with `else`\n",
    "The `else` clause executes if the loop completes without a `break`."
   ]
  },
  {
   "cell_type": "code",
   "execution_count": null,
   "id": "aa7bdf0e",
   "metadata": {},
   "outputs": [],
   "source": [
    "# for loop with else\n",
    "for i in range(3):\n",
    "    print(\"Loop:\", i)\n",
    "else:\n",
    "    print(\"Finished without break\")"
   ]
  }
 ],
 "metadata": {},
 "nbformat": 4,
 "nbformat_minor": 5
}
