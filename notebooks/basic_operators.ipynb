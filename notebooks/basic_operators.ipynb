{
 "cells": [
  {
   "cell_type": "markdown",
   "id": "dc7ae0d5",
   "metadata": {},
   "source": [
    "# Basic Operators in Python\n",
    "\n",
    "This notebook introduces the basic operators in Python, including arithmetic, comparison, logical, and assignment operators."
   ]
  },
  {
   "cell_type": "markdown",
   "id": "3c7e7f55",
   "metadata": {},
   "source": [
    "## Arithmetic Operators\n",
    "Python supports the following arithmetic operators:"
   ]
  },
  {
   "cell_type": "code",
   "execution_count": null,
   "id": "8acd89d9",
   "metadata": {},
   "outputs": [],
   "source": [
    "# Addition\n",
    "a = 10\n",
    "b = 3\n",
    "print(\"Addition:\", a + b)\n",
    "\n",
    "# Subtraction\n",
    "print(\"Subtraction:\", a - b)\n",
    "\n",
    "# Multiplication\n",
    "print(\"Multiplication:\", a * b)\n",
    "\n",
    "# Division\n",
    "print(\"Division:\", a / b)\n",
    "\n",
    "# Floor Division\n",
    "print(\"Floor Division:\", a // b)\n",
    "\n",
    "# Modulus\n",
    "print(\"Modulus:\", a % b)\n",
    "\n",
    "# Exponentiation\n",
    "print(\"Exponentiation:\", a ** b)"
   ]
  },
  {
   "cell_type": "markdown",
   "id": "5df2c80e",
   "metadata": {},
   "source": [
    "## Comparison Operators\n",
    "These operators compare two values and return a boolean result:"
   ]
  },
  {
   "cell_type": "code",
   "execution_count": null,
   "id": "79e560cb",
   "metadata": {},
   "outputs": [],
   "source": [
    "# Comparison\n",
    "print(\"a == b:\", a == b)\n",
    "print(\"a != b:\", a != b)\n",
    "print(\"a > b:\", a > b)\n",
    "print(\"a < b:\", a < b)\n",
    "print(\"a >= b:\", a >= b)\n",
    "print(\"a <= b:\", a <= b)"
   ]
  },
  {
   "cell_type": "markdown",
   "id": "d4161060",
   "metadata": {},
   "source": [
    "## Logical Operators\n",
    "Logical operators combine boolean values:"
   ]
  },
  {
   "cell_type": "code",
   "execution_count": null,
   "id": "9cb83a5e",
   "metadata": {},
   "outputs": [],
   "source": [
    "x = True\n",
    "y = False\n",
    "\n",
    "print(\"x and y:\", x and y)\n",
    "print(\"x or y:\", x or y)\n",
    "print(\"not x:\", not x)"
   ]
  },
  {
   "cell_type": "markdown",
   "id": "c18fe004",
   "metadata": {},
   "source": [
    "## Assignment Operators\n",
    "Used to assign values to variables:"
   ]
  },
  {
   "cell_type": "code",
   "execution_count": null,
   "id": "6b7d423e",
   "metadata": {},
   "outputs": [],
   "source": [
    "a = 5\n",
    "print(\"Initial a:\", a)\n",
    "\n",
    "a += 2\n",
    "print(\"After a += 2:\", a)\n",
    "\n",
    "a -= 1\n",
    "print(\"After a -= 1:\", a)\n",
    "\n",
    "a *= 3\n",
    "print(\"After a *= 3:\", a)\n",
    "\n",
    "a /= 2\n",
    "print(\"After a /= 2:\", a)\n",
    "\n",
    "a %= 4\n",
    "print(\"After a %= 4:\", a)"
   ]
  },
  {
   "cell_type": "markdown",
   "id": "5db868e0",
   "metadata": {},
   "source": [
    "## Bitwise Operators\n",
    "Bitwise operators perform operations on binary representations of integers:"
   ]
  },
  {
   "cell_type": "code",
   "execution_count": null,
   "id": "9f475d92",
   "metadata": {},
   "outputs": [],
   "source": [
    "a = 10  # binary: 1010\n",
    "b = 4   # binary: 0100\n",
    "\n",
    "print(\"a & b:\", a & b)   # Bitwise AND\n",
    "print(\"a | b:\", a | b)   # Bitwise OR\n",
    "print(\"a ^ b:\", a ^ b)   # Bitwise XOR\n",
    "print(\"~a:\", ~a)         # Bitwise NOT\n",
    "print(\"a << 1:\", a << 1) # Bitwise left shift\n",
    "print(\"a >> 1:\", a >> 1) # Bitwise right shift"
   ]
  }
 ],
 "metadata": {},
 "nbformat": 4,
 "nbformat_minor": 5
}
