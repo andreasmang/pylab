{
 "cells": [
  {
   "cell_type": "markdown",
   "id": "2f2bf2d7",
   "metadata": {},
   "source": [
    "\n",
    "# Exception and Error Handling in Python\n",
    "\n",
    "In this notebook, we'll explore the concepts of **exceptions** and **error handling** in Python using the `try`, `except`, `else`, and `finally` blocks.\n"
   ]
  },
  {
   "cell_type": "code",
   "execution_count": null,
   "id": "dd6d340a",
   "metadata": {},
   "outputs": [],
   "source": [
    "\n",
    "# Example 1: Basic try-except block\n",
    "try:\n",
    "    print(\"Let's divide by zero!\")\n",
    "    result = 10 / 0\n",
    "except ZeroDivisionError as e:\n",
    "    print(\"Caught an exception:\", e)\n"
   ]
  },
  {
   "cell_type": "markdown",
   "id": "25e195b7",
   "metadata": {},
   "source": [
    "\n",
    "The `try` block lets you test a block of code for errors. The `except` block lets you handle the error.\n"
   ]
  },
  {
   "cell_type": "code",
   "execution_count": null,
   "id": "1f932c17",
   "metadata": {},
   "outputs": [],
   "source": [
    "\n",
    "# Example 2: Handling multiple exceptions\n",
    "try:\n",
    "    number = int(\"Not a number\")\n",
    "    result = 10 / number\n",
    "except ValueError as ve:\n",
    "    print(\"ValueError caught:\", ve)\n",
    "except ZeroDivisionError as ze:\n",
    "    print(\"ZeroDivisionError caught:\", ze)\n"
   ]
  },
  {
   "cell_type": "code",
   "execution_count": null,
   "id": "a3f133bd",
   "metadata": {},
   "outputs": [],
   "source": [
    "\n",
    "# Example 3: Using else\n",
    "try:\n",
    "    number = 5\n",
    "    result = 10 / number\n",
    "except ZeroDivisionError:\n",
    "    print(\"Division by zero.\")\n",
    "else:\n",
    "    print(\"The result is:\", result)\n"
   ]
  },
  {
   "cell_type": "code",
   "execution_count": null,
   "id": "07b31fa7",
   "metadata": {},
   "outputs": [],
   "source": [
    "\n",
    "# Example 4: Using finally\n",
    "try:\n",
    "    file = open(\"non_existent_file.txt\")\n",
    "except FileNotFoundError:\n",
    "    print(\"File not found.\")\n",
    "finally:\n",
    "    print(\"This block always executes.\")\n"
   ]
  },
  {
   "cell_type": "markdown",
   "id": "b3948a2c",
   "metadata": {},
   "source": [
    "\n",
    "## Summary\n",
    "\n",
    "- Use `try` to wrap code that might throw an exception.\n",
    "- Use `except` to catch and handle specific errors.\n",
    "- Use `else` to execute code if no exceptions are raised.\n",
    "- Use `finally` to execute cleanup code, whether an exception was raised or not.\n"
   ]
  }
 ],
 "metadata": {},
 "nbformat": 4,
 "nbformat_minor": 5
}
