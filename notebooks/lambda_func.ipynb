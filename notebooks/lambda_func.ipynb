{
 "cells": [
  {
   "cell_type": "markdown",
   "metadata": {},
   "source": [
    "# Lambda Functions in Python\n",
    "\n",
    "This notebook explains how to use **lambda functions** in Python with examples."
   ]
  },
  {
   "cell_type": "code",
   "execution_count": null,
   "metadata": {},
   "outputs": [],
   "source": [
    "# 1. What is a Lambda Function?\n",
    "# A lambda function is a small anonymous function defined using the 'lambda' keyword.\n",
    "# Syntax: lambda arguments: expression\n",
    "\n",
    "# Example: A lambda function that adds 10 to a given number\n",
    "add_ten = lambda x: x + 10\n",
    "print(\"Add 10:\", add_ten(5))  # Output: 15"
   ]
  },
  {
   "cell_type": "code",
   "execution_count": null,
   "metadata": {},
   "outputs": [],
   "source": [
    "# 2. Lambda with Multiple Arguments\n",
    "multiply = lambda x, y: x * y\n",
    "print(\"Multiply:\", multiply(3, 4))  # Output: 12"
   ]
  },
  {
   "cell_type": "code",
   "execution_count": null,
   "metadata": {},
   "outputs": [],
   "source": [
    "# 3. Lambda Inside Functions\n",
    "# You can return lambda functions from other functions\n",
    "def make_incrementor(n):\n",
    "    return lambda x: x + n\n",
    "\n",
    "add_five = make_incrementor(5)\n",
    "print(\"Add 5:\", add_five(10))  # Output: 15"
   ]
  },
  {
   "cell_type": "code",
   "execution_count": null,
   "metadata": {},
   "outputs": [],
   "source": [
    "# 4. Lambda with map()\n",
    "nums = [1, 2, 3, 4]\n",
    "squared = list(map(lambda x: x ** 2, nums))\n",
    "print(\"Squared:\", squared)  # Output: [1, 4, 9, 16]"
   ]
  },
  {
   "cell_type": "code",
   "execution_count": null,
   "metadata": {},
   "outputs": [],
   "source": [
    "# 5. Lambda with filter()\n",
    "even_nums = list(filter(lambda x: x % 2 == 0, nums))\n",
    "print(\"Even Numbers:\", even_nums)  # Output: [2, 4]"
   ]
  },
  {
   "cell_type": "code",
   "execution_count": null,
   "metadata": {},
   "outputs": [],
   "source": [
    "# 6. Lambda with sorted() and custom key\n",
    "people = [(\"Alice\", 25), (\"Bob\", 30), (\"Eve\", 22)]\n",
    "sorted_people = sorted(people, key=lambda person: person[1])\n",
    "print(\"Sorted by age:\", sorted_people)  # Output: [('Eve', 22), ('Alice', 25), ('Bob', 30)]"
   ]
  },
  {
   "cell_type": "code",
   "execution_count": null,
   "metadata": {},
   "outputs": [],
   "source": [
    "# 7. Comparison with Regular Function\n",
    "def regular_add(x):\n",
    "    return x + 10\n",
    "\n",
    "# Equivalent lambda\n",
    "lambda_add = lambda x: x + 10\n",
    "\n",
    "print(\"Regular Function:\", regular_add(5))  # Output: 15\n",
    "print(\"Lambda Function:\", lambda_add(5))   # Output: 15"
   ]
  }
 ],
 "metadata": {
  "kernelspec": {
   "display_name": "Python 3 (ipykernel)",
   "language": "python",
   "name": "python3"
  },
  "language_info": {
   "codemirror_mode": {
    "name": "ipython",
    "version": 3
   },
   "file_extension": ".py",
   "mimetype": "text/x-python",
   "name": "python",
   "nbconvert_exporter": "python",
   "pygments_lexer": "ipython3",
   "version": "3.9.6"
  }
 },
 "nbformat": 4,
 "nbformat_minor": 2
}
