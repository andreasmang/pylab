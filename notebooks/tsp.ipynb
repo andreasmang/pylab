{
 "cells": [
  {
   "cell_type": "markdown",
   "id": "5d4e241d",
   "metadata": {},
   "source": [
    "# Solving the Traveling Salesman Problem (TSP) in Python\n",
    "\n",
    "This notebook demonstrates how to solve the Traveling Salesman Problem using a brute-force approach and a heuristic algorithm (Nearest Neighbor)."
   ]
  },
  {
   "cell_type": "code",
   "execution_count": null,
   "id": "53e5fd09",
   "metadata": {},
   "outputs": [],
   "source": [
    "import numpy as np\n",
    "import itertools\n",
    "import matplotlib.pyplot as plt\n",
    "from scipy.spatial.distance import cdist\n"
   ]
  },
  {
   "cell_type": "markdown",
   "id": "b687f5d7",
   "metadata": {},
   "source": [
    "## Define the Cities"
   ]
  },
  {
   "cell_type": "code",
   "execution_count": null,
   "id": "64d3e29c",
   "metadata": {},
   "outputs": [],
   "source": [
    "# Generate random cities\n",
    "np.random.seed(0)\n",
    "num_cities = 8\n",
    "cities = np.random.rand(num_cities, 2)\n",
    "\n",
    "# Plot cities\n",
    "plt.scatter(cities[:, 0], cities[:, 1], c='red')\n",
    "for i, (x, y) in enumerate(cities):\n",
    "    plt.text(x + 0.01, y + 0.01, str(i))\n",
    "plt.title(\"Cities\")\n",
    "plt.xlabel(\"x\")\n",
    "plt.ylabel(\"y\")\n",
    "plt.show()"
   ]
  },
  {
   "cell_type": "markdown",
   "id": "bdfd00d4",
   "metadata": {},
   "source": [
    "## Distance Matrix"
   ]
  },
  {
   "cell_type": "code",
   "execution_count": null,
   "id": "6093b8f7",
   "metadata": {},
   "outputs": [],
   "source": [
    "# Compute pairwise distances\n",
    "dist_matrix = cdist(cities, cities)\n",
    "dist_matrix"
   ]
  },
  {
   "cell_type": "markdown",
   "id": "3f0dac16",
   "metadata": {},
   "source": [
    "## Brute-Force Solution (All Permutations)"
   ]
  },
  {
   "cell_type": "code",
   "execution_count": null,
   "id": "fa59f0e4",
   "metadata": {},
   "outputs": [],
   "source": [
    "def total_distance(path, dist_matrix):\n",
    "    return sum(dist_matrix[path[i], path[i+1]] for i in range(len(path)-1)) + dist_matrix[path[-1], path[0]]\n",
    "\n",
    "# Try all permutations\n",
    "best_path = None\n",
    "min_distance = float('inf')\n",
    "for perm in itertools.permutations(range(num_cities)):\n",
    "    d = total_distance(perm, dist_matrix)\n",
    "    if d < min_distance:\n",
    "        min_distance = d\n",
    "        best_path = perm\n",
    "\n",
    "print(\"Shortest path (brute-force):\", best_path)\n",
    "print(\"Minimum distance:\", min_distance)"
   ]
  },
  {
   "cell_type": "markdown",
   "id": "82700e7d",
   "metadata": {},
   "source": [
    "## Plot the Shortest Path"
   ]
  },
  {
   "cell_type": "code",
   "execution_count": null,
   "id": "000587c1",
   "metadata": {},
   "outputs": [],
   "source": [
    "best_path = list(best_path) + [best_path[0]]  # make a loop\n",
    "path_coords = cities[best_path]\n",
    "\n",
    "plt.plot(path_coords[:, 0], path_coords[:, 1], 'bo-')\n",
    "plt.scatter(cities[:, 0], cities[:, 1], c='red')\n",
    "plt.title(\"Shortest Path (Brute-Force)\")\n",
    "plt.xlabel(\"x\")\n",
    "plt.ylabel(\"y\")\n",
    "plt.show()"
   ]
  },
  {
   "cell_type": "markdown",
   "id": "2a8edc70",
   "metadata": {},
   "source": [
    "## Heuristic: Nearest Neighbor Algorithm"
   ]
  },
  {
   "cell_type": "code",
   "execution_count": null,
   "id": "5605b0aa",
   "metadata": {},
   "outputs": [],
   "source": [
    "def nearest_neighbor(dist_matrix, start=0):\n",
    "    n = len(dist_matrix)\n",
    "    visited = [start]\n",
    "    total_dist = 0\n",
    "    while len(visited) < n:\n",
    "        last = visited[-1]\n",
    "        next_city = min((i for i in range(n) if i not in visited),\n",
    "                        key=lambda i: dist_matrix[last][i])\n",
    "        visited.append(next_city)\n",
    "        total_dist += dist_matrix[last][next_city]\n",
    "    total_dist += dist_matrix[visited[-1]][start]\n",
    "    return visited, total_dist\n",
    "\n",
    "nn_path, nn_distance = nearest_neighbor(dist_matrix)\n",
    "print(\"Nearest Neighbor Path:\", nn_path)\n",
    "print(\"Total Distance:\", nn_distance)"
   ]
  },
  {
   "cell_type": "code",
   "execution_count": null,
   "id": "1955ce4f",
   "metadata": {},
   "outputs": [],
   "source": [
    "nn_path = list(nn_path) + [nn_path[0]]\n",
    "path_coords = cities[nn_path]\n",
    "\n",
    "plt.plot(path_coords[:, 0], path_coords[:, 1], 'go-')\n",
    "plt.scatter(cities[:, 0], cities[:, 1], c='red')\n",
    "plt.title(\"Nearest Neighbor Path\")\n",
    "plt.xlabel(\"x\")\n",
    "plt.ylabel(\"y\")\n",
    "plt.show()"
   ]
  }
 ],
 "metadata": {},
 "nbformat": 4,
 "nbformat_minor": 5
}
