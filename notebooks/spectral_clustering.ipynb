{
 "cells": [
  {
   "cell_type": "markdown",
   "id": "78153859",
   "metadata": {},
   "source": [
    "# Spectral Clustering in Python\n",
    "\n",
    "This notebook introduces spectral clustering and demonstrates how to implement it using `scikit-learn`."
   ]
  },
  {
   "cell_type": "markdown",
   "id": "00616061",
   "metadata": {},
   "source": [
    "## What is Spectral Clustering?\n",
    "Spectral clustering is a technique that uses the spectrum (eigenvalues) of the similarity matrix of the data to perform dimensionality reduction before clustering in fewer dimensions.\n",
    "\n",
    "### Key Features:\n",
    "- Can capture complex cluster structures (e.g., non-convex).\n",
    "- Based on graph theory.\n",
    "- Involves constructing a similarity graph and computing the Laplacian."
   ]
  },
  {
   "cell_type": "markdown",
   "id": "83936200",
   "metadata": {},
   "source": [
    "## Import Libraries"
   ]
  },
  {
   "cell_type": "code",
   "execution_count": null,
   "id": "33c5f8db",
   "metadata": {},
   "outputs": [],
   "source": [
    "import numpy as np\n",
    "import matplotlib.pyplot as plt\n",
    "from sklearn.cluster import SpectralClustering\n",
    "from sklearn.datasets import make_moons"
   ]
  },
  {
   "cell_type": "markdown",
   "id": "9b5ab278",
   "metadata": {},
   "source": [
    "## Generate Synthetic Data"
   ]
  },
  {
   "cell_type": "code",
   "execution_count": null,
   "id": "4531f314",
   "metadata": {},
   "outputs": [],
   "source": [
    "# Create non-convex data (two moons)\n",
    "X, y_true = make_moons(n_samples=300, noise=0.05, random_state=0)\n",
    "\n",
    "# Visualize the data\n",
    "plt.scatter(X[:, 0], X[:, 1], s=50)\n",
    "plt.title(\"Generated Data: Two Moons\")\n",
    "plt.xlabel(\"Feature 1\")\n",
    "plt.ylabel(\"Feature 2\")\n",
    "plt.show()"
   ]
  },
  {
   "cell_type": "markdown",
   "id": "b72aaff5",
   "metadata": {},
   "source": [
    "## Apply Spectral Clustering"
   ]
  },
  {
   "cell_type": "code",
   "execution_count": null,
   "id": "4efc1e75",
   "metadata": {},
   "outputs": [],
   "source": [
    "# Apply spectral clustering\n",
    "sc = SpectralClustering(n_clusters=2, affinity='nearest_neighbors', assign_labels='kmeans', random_state=0)\n",
    "labels = sc.fit_predict(X)"
   ]
  },
  {
   "cell_type": "markdown",
   "id": "abe37308",
   "metadata": {},
   "source": [
    "## Visualize Clustering Result"
   ]
  },
  {
   "cell_type": "code",
   "execution_count": null,
   "id": "e5fc95d8",
   "metadata": {},
   "outputs": [],
   "source": [
    "# Visualize clusters\n",
    "plt.scatter(X[:, 0], X[:, 1], c=labels, cmap='viridis', s=50)\n",
    "plt.title(\"Spectral Clustering Result\")\n",
    "plt.xlabel(\"Feature 1\")\n",
    "plt.ylabel(\"Feature 2\")\n",
    "plt.show()"
   ]
  },
  {
   "cell_type": "markdown",
   "id": "28a6e0d6",
   "metadata": {},
   "source": [
    "## Affinity Options\n",
    "\n",
    "Spectral Clustering supports different types of similarity measures:\n",
    "- `'nearest_neighbors'`: graph based on nearest neighbors (good for sparse graphs)\n",
    "- `'rbf'`: radial basis function kernel\n",
    "- `'precomputed'`: custom similarity matrix"
   ]
  }
 ],
 "metadata": {},
 "nbformat": 4,
 "nbformat_minor": 5
}
