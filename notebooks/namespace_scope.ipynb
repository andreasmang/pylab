{
 "cells": [
  {
   "cell_type": "markdown",
   "id": "4bcd22b8",
   "metadata": {},
   "source": [
    "# Python Namespaces and Variable Scoping\n",
    "\n",
    "This notebook explains the concept of namespaces and variable scoping in Python with examples."
   ]
  },
  {
   "cell_type": "markdown",
   "id": "5e5bf36b",
   "metadata": {},
   "source": [
    "## What is a Namespace?\n",
    "A namespace is a container that holds names (identifiers) as keys and objects as values. There are several types of namespaces:\n",
    "\n",
    "- **Local**: Inside a function\n",
    "- **Global**: At the module level\n",
    "- **Built-in**: Containing built-in functions and exceptions\n",
    "\n",
    "You can inspect namespaces using the `globals()` and `locals()` functions."
   ]
  },
  {
   "cell_type": "markdown",
   "id": "fdfa7285",
   "metadata": {},
   "source": [
    "## Example: Global vs Local Scope"
   ]
  },
  {
   "cell_type": "code",
   "execution_count": null,
   "id": "ab57babc",
   "metadata": {},
   "outputs": [],
   "source": [
    "x = 10  # global variable\n",
    "\n",
    "def example():\n",
    "    x = 5  # local variable\n",
    "    print(\"Inside function, x =\", x)\n",
    "\n",
    "example()\n",
    "print(\"Outside function, x =\", x)"
   ]
  },
  {
   "cell_type": "markdown",
   "id": "dd0c0ac3",
   "metadata": {},
   "source": [
    "## Using the `global` Keyword\n",
    "The `global` keyword allows you to modify a global variable from within a function."
   ]
  },
  {
   "cell_type": "code",
   "execution_count": null,
   "id": "69cd92a8",
   "metadata": {},
   "outputs": [],
   "source": [
    "x = 10\n",
    "\n",
    "def modify_global():\n",
    "    global x\n",
    "    x = 20\n",
    "    print(\"Inside function, modified x =\", x)\n",
    "\n",
    "modify_global()\n",
    "print(\"Outside function, x =\", x)"
   ]
  },
  {
   "cell_type": "markdown",
   "id": "d23265c2",
   "metadata": {},
   "source": [
    "## Nested Functions and the `nonlocal` Keyword\n",
    "Use `nonlocal` to modify a variable in an enclosing (non-global) scope."
   ]
  },
  {
   "cell_type": "code",
   "execution_count": null,
   "id": "a169cd89",
   "metadata": {},
   "outputs": [],
   "source": [
    "def outer():\n",
    "    x = \"outer\"\n",
    "\n",
    "    def inner():\n",
    "        nonlocal x\n",
    "        x = \"inner\"\n",
    "        print(\"Inside inner, x =\", x)\n",
    "\n",
    "    inner()\n",
    "    print(\"Inside outer, x =\", x)\n",
    "\n",
    "outer()"
   ]
  },
  {
   "cell_type": "markdown",
   "id": "b4702118",
   "metadata": {},
   "source": [
    "## The LEGB Rule\n",
    "Python looks for variables in the following order:\n",
    "1. **Local** — inside the current function\n",
    "2. **Enclosing** — in enclosing functions\n",
    "3. **Global** — at the module level\n",
    "4. **Built-in** — provided by Python"
   ]
  },
  {
   "cell_type": "code",
   "execution_count": null,
   "id": "96d93697",
   "metadata": {},
   "outputs": [],
   "source": [
    "# Built-in scope demo\n",
    "print(len([1, 2, 3]))\n",
    "\n",
    "# Override built-in\n",
    "len = \"Length\"\n",
    "print(\"Overridden len =\", len)\n",
    "\n",
    "# Restore\n",
    "del len\n",
    "print(\"Restored len function:\", len([1, 2, 3]))"
   ]
  }
 ],
 "metadata": {
  "kernelspec": {
   "display_name": "Python 3 (ipykernel)",
   "language": "python",
   "name": "python3"
  },
  "language_info": {
   "codemirror_mode": {
    "name": "ipython",
    "version": 3
   },
   "file_extension": ".py",
   "mimetype": "text/x-python",
   "name": "python",
   "nbconvert_exporter": "python",
   "pygments_lexer": "ipython3",
   "version": "3.9.6"
  }
 },
 "nbformat": 4,
 "nbformat_minor": 5
}
