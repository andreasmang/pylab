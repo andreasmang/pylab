{
 "cells": [
  {
   "cell_type": "markdown",
   "id": "771a674a",
   "metadata": {},
   "source": [
    "# 🧮 NumPy Linear Algebra Examples"
   ]
  },
  {
   "cell_type": "code",
   "execution_count": null,
   "id": "5ea79bcd",
   "metadata": {},
   "outputs": [],
   "source": [
    "import numpy as np\n",
    "from numpy.linalg import inv, eig\n",
    "\n",
    "print(\"NumPy version:\", np.__version__)"
   ]
  },
  {
   "cell_type": "code",
   "execution_count": null,
   "id": "e8180198",
   "metadata": {},
   "outputs": [],
   "source": [
    "A = np.array([[1, 2], [3, 4]])\n",
    "B = np.array([[5, 6], [7, 8]])\n",
    "\n",
    "C = np.dot(A, B)\n",
    "print(\"Matrix A:\\n\", A)\n",
    "print(\"Matrix B:\\n\", B)\n",
    "print(\"Matrix A * B:\\n\", C)"
   ]
  },
  {
   "cell_type": "code",
   "execution_count": null,
   "id": "1366b958",
   "metadata": {},
   "outputs": [],
   "source": [
    "A_inv = inv(A)\n",
    "print(\"Inverse of Matrix A:\\n\", A_inv)\n",
    "\n",
    "# Verify by multiplying with original matrix (should give identity matrix)\n",
    "identity_check = np.dot(A, A_inv)\n",
    "print(\"A * A_inv (Identity Matrix):\\n\", identity_check)"
   ]
  },
  {
   "cell_type": "code",
   "execution_count": null,
   "id": "a2a25e32",
   "metadata": {},
   "outputs": [],
   "source": [
    "eigenvalues, eigenvectors = eig(A)\n",
    "print(\"Eigenvalues of A:\", eigenvalues)\n",
    "print(\"Eigenvectors of A:\\n\", eigenvectors)"
   ]
  },
  {
   "cell_type": "code",
   "execution_count": null,
   "id": "a9ec6c6d",
   "metadata": {},
   "outputs": [],
   "source": [
    "A = np.array([[2, 3], [4, 1]])\n",
    "y = np.array([5, 6])\n",
    "\n",
    "x = np.linalg.solve(A, y)\n",
    "print(\"Solution to the system of equations [2x_1 + 3x_2 = 5, 4x_1 + x_2 = 6]:\\n\", x)"
   ]
  },
  {
   "cell_type": "code",
   "execution_count": null,
   "id": "782f66fd",
   "metadata": {},
   "outputs": [],
   "source": [
    "M = np.random.rand(3, 2)\n",
    "\n",
    "U, S, Vt = np.linalg.svd(M)\n",
    "print(\"U matrix:\\n\", U)\n",
    "print(\"Singular values (S):\\n\", S)\n",
    "print(\"Vt matrix:\\n\", Vt)"
   ]
  },
  {
   "cell_type": "code",
   "execution_count": null,
   "id": "5aefa438",
   "metadata": {},
   "outputs": [],
   "source": [
    "det_A = np.linalg.det(A)\n",
    "print(\"Determinant of matrix A:\", det_A)"
   ]
  },
  {
   "cell_type": "code",
   "execution_count": null,
   "id": "e67ecc8e",
   "metadata": {},
   "outputs": [],
   "source": []
  }
 ],
 "metadata": {
  "kernelspec": {
   "display_name": "Python 3 (ipykernel)",
   "language": "python",
   "name": "python3"
  },
  "language_info": {
   "codemirror_mode": {
    "name": "ipython",
    "version": 3
   },
   "file_extension": ".py",
   "mimetype": "text/x-python",
   "name": "python",
   "nbconvert_exporter": "python",
   "pygments_lexer": "ipython3",
   "version": "3.9.6"
  }
 },
 "nbformat": 4,
 "nbformat_minor": 5
}
