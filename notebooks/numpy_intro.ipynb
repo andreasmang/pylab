{
 "cells": [
  {
   "cell_type": "markdown",
   "id": "10506dcb",
   "metadata": {},
   "source": [
    "# 🧠 Introduction to NumPy"
   ]
  },
  {
   "cell_type": "code",
   "execution_count": null,
   "id": "0aba86a2",
   "metadata": {},
   "outputs": [],
   "source": [
    "# !pip install numpy"
   ]
  },
  {
   "cell_type": "code",
   "execution_count": null,
   "id": "26577c5a",
   "metadata": {},
   "outputs": [],
   "source": [
    "import numpy as np\n",
    "print(\"NumPy version:\", np.__version__)"
   ]
  },
  {
   "cell_type": "code",
   "execution_count": null,
   "id": "d15e07c1",
   "metadata": {},
   "outputs": [],
   "source": [
    "# Creating a 1D array\n",
    "arr1 = np.array([1, 2, 3, 4, 5])\n",
    "print(\"1D Array:\", arr1)\n",
    "\n",
    "# Creating a 2D array\n",
    "arr2 = np.array([[1, 2], [3, 4]])\n",
    "print(\"2D Array:\\n\", arr2)"
   ]
  },
  {
   "cell_type": "code",
   "execution_count": null,
   "id": "6aabe8aa",
   "metadata": {},
   "outputs": [],
   "source": [
    "print(\"Shape of arr2:\", arr2.shape)\n",
    "print(\"Data type of arr2:\", arr2.dtype)\n",
    "print(\"Size of arr2:\", arr2.size)\n",
    "print(\"Number of dimensions:\", arr2.ndim)"
   ]
  },
  {
   "cell_type": "code",
   "execution_count": null,
   "id": "bedc76b7",
   "metadata": {},
   "outputs": [],
   "source": [
    "zeros = np.zeros((2, 3))\n",
    "ones = np.ones((2, 3))\n",
    "eye = np.eye(3)\n",
    "arange = np.arange(0, 10, 2)\n",
    "linspace = np.linspace(0, 1, 5)\n",
    "\n",
    "print(\"Zeros:\\n\", zeros)\n",
    "print(\"Ones:\\n\", ones)\n",
    "print(\"Identity Matrix:\\n\", eye)\n",
    "print(\"Arange:\", arange)\n",
    "print(\"Linspace:\", linspace)"
   ]
  },
  {
   "cell_type": "code",
   "execution_count": null,
   "id": "7cda57e3",
   "metadata": {},
   "outputs": [],
   "source": [
    "a = np.array([1, 2, 3])\n",
    "b = np.array([4, 5, 6])\n",
    "\n",
    "print(\"Addition:\", a + b)\n",
    "print(\"Subtraction:\", a - b)\n",
    "print(\"Multiplication:\", a * b)\n",
    "print(\"Division:\", a / b)\n",
    "print(\"Dot Product:\", np.dot(a, b))"
   ]
  },
  {
   "cell_type": "code",
   "execution_count": null,
   "id": "92cdfe9f",
   "metadata": {},
   "outputs": [],
   "source": [
    "c = np.array([[10, 20, 30], [40, 50, 60]])\n",
    "print(\"Element at row 0, col 1:\", c[0, 1])\n",
    "print(\"First row:\", c[0])\n",
    "print(\"All rows, second column:\", c[:, 1])"
   ]
  },
  {
   "cell_type": "code",
   "execution_count": null,
   "id": "6cf136ff",
   "metadata": {},
   "outputs": [],
   "source": [
    "d = np.array([10, 20, 30, 40])\n",
    "print(\"Elements greater than 20:\", d[d > 20])"
   ]
  },
  {
   "cell_type": "code",
   "execution_count": null,
   "id": "484b44a4",
   "metadata": {},
   "outputs": [],
   "source": [
    "e = np.arange(6)\n",
    "print(\"Original:\", e)\n",
    "\n",
    "reshaped = e.reshape((2, 3))\n",
    "print(\"Reshaped to 2x3:\\n\", reshaped)\n",
    "\n",
    "transposed = reshaped.T\n",
    "print(\"Transposed:\\n\", transposed)"
   ]
  },
  {
   "cell_type": "code",
   "execution_count": null,
   "id": "30fe6c70",
   "metadata": {},
   "outputs": [],
   "source": [
    "rand_arr = np.random.rand(2, 3)\n",
    "rand_ints = np.random.randint(0, 10, (2, 3))\n",
    "\n",
    "print(\"Random floats:\\n\", rand_arr)\n",
    "print(\"Random integers:\\n\", rand_ints)"
   ]
  }
 ],
 "metadata": {
  "kernelspec": {
   "display_name": "Python 3",
   "name": "python3"
  }
 },
 "nbformat": 4,
 "nbformat_minor": 5
}
