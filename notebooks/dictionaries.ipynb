{
 "cells": [
  {
   "cell_type": "markdown",
   "id": "fa709efc",
   "metadata": {},
   "source": [
    "# Python Dictionaries\n",
    "\n",
    "This notebook introduces Python dictionaries, their features, and basic operations."
   ]
  },
  {
   "cell_type": "markdown",
   "id": "cdb7a0f7",
   "metadata": {},
   "source": [
    "## What is a Dictionary?\n",
    "A dictionary is an unordered collection of key-value pairs.\n",
    "Each key must be unique and immutable (e.g., strings, numbers, tuples)."
   ]
  },
  {
   "cell_type": "markdown",
   "id": "0c9c9095",
   "metadata": {},
   "source": [
    "## Creating Dictionaries"
   ]
  },
  {
   "cell_type": "code",
   "execution_count": null,
   "id": "2ada338f",
   "metadata": {},
   "outputs": [],
   "source": [
    "# Creating a dictionary\n",
    "person = {\n",
    "    \"name\": \"Alice\",\n",
    "    \"age\": 30,\n",
    "    \"city\": \"New York\"\n",
    "}\n",
    "print(person)"
   ]
  },
  {
   "cell_type": "markdown",
   "id": "9e602fc9",
   "metadata": {},
   "source": [
    "## Accessing Values"
   ]
  },
  {
   "cell_type": "code",
   "execution_count": null,
   "id": "59ad9109",
   "metadata": {},
   "outputs": [],
   "source": [
    "# Access value by key\n",
    "print(person[\"name\"])\n",
    "\n",
    "# Using get() to avoid KeyError\n",
    "print(person.get(\"age\"))\n",
    "print(person.get(\"country\", \"Not specified\"))"
   ]
  },
  {
   "cell_type": "markdown",
   "id": "6bffe89a",
   "metadata": {},
   "source": [
    "## Modifying and Adding Items"
   ]
  },
  {
   "cell_type": "code",
   "execution_count": null,
   "id": "373f7505",
   "metadata": {},
   "outputs": [],
   "source": [
    "# Modify existing entry\n",
    "person[\"age\"] = 31\n",
    "\n",
    "# Add new entry\n",
    "person[\"email\"] = \"alice@example.com\"\n",
    "\n",
    "print(person)"
   ]
  },
  {
   "cell_type": "markdown",
   "id": "9173102e",
   "metadata": {},
   "source": [
    "## Removing Items"
   ]
  },
  {
   "cell_type": "code",
   "execution_count": null,
   "id": "2d7bb8ed",
   "metadata": {},
   "outputs": [],
   "source": [
    "# Remove item using pop()\n",
    "person.pop(\"city\")\n",
    "\n",
    "# Remove last inserted item using popitem()\n",
    "person.popitem()\n",
    "\n",
    "print(person)"
   ]
  },
  {
   "cell_type": "markdown",
   "id": "52fa96f0",
   "metadata": {},
   "source": [
    "## Useful Dictionary Methods"
   ]
  },
  {
   "cell_type": "code",
   "execution_count": null,
   "id": "693e71f4",
   "metadata": {},
   "outputs": [],
   "source": [
    "# Dictionary keys, values, and items\n",
    "print(\"Keys:\", person.keys())\n",
    "print(\"Values:\", person.values())\n",
    "print(\"Items:\", person.items())"
   ]
  },
  {
   "cell_type": "markdown",
   "id": "67c6fd42",
   "metadata": {},
   "source": [
    "## Looping Through a Dictionary"
   ]
  },
  {
   "cell_type": "code",
   "execution_count": null,
   "id": "ace88433",
   "metadata": {},
   "outputs": [],
   "source": [
    "# Iterating through keys and values\n",
    "for key, value in person.items():\n",
    "    print(key, \":\", value)"
   ]
  },
  {
   "cell_type": "markdown",
   "id": "5ea29204",
   "metadata": {},
   "source": [
    "## Nested Dictionaries"
   ]
  },
  {
   "cell_type": "code",
   "execution_count": null,
   "id": "b1b1096c",
   "metadata": {},
   "outputs": [],
   "source": [
    "# Dictionary containing another dictionary\n",
    "students = {\n",
    "    \"001\": {\"name\": \"Bob\", \"grade\": \"A\"},\n",
    "    \"002\": {\"name\": \"Carol\", \"grade\": \"B\"}\n",
    "}\n",
    "\n",
    "print(students[\"001\"][\"name\"])\n",
    "print(students[\"002\"][\"grade\"])"
   ]
  }
 ],
 "metadata": {
  "kernelspec": {
   "display_name": "Python 3 (ipykernel)",
   "language": "python",
   "name": "python3"
  },
  "language_info": {
   "codemirror_mode": {
    "name": "ipython",
    "version": 3
   },
   "file_extension": ".py",
   "mimetype": "text/x-python",
   "name": "python",
   "nbconvert_exporter": "python",
   "pygments_lexer": "ipython3",
   "version": "3.9.6"
  }
 },
 "nbformat": 4,
 "nbformat_minor": 5
}
