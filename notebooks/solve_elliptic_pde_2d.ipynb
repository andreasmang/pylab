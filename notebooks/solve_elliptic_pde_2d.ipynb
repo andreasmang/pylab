{
 "cells": [
  {
   "cell_type": "markdown",
   "id": "d47646e3",
   "metadata": {},
   "source": [
    "# Solving a 2D Elliptic PDE\n",
    "\n",
    "This notebook demonstrates how to solve a 2D elliptic partial differential equation (PDE), specifically the Poisson equation:\n",
    "\n",
    "\\[ -\\Delta u(x, y) = f(x, y), \\quad (x, y) \\in \\Omega \\subset \\mathbb{R}^2 \\]\n",
    "\n",
    "with Dirichlet boundary conditions using finite differences."
   ]
  },
  {
   "cell_type": "code",
   "execution_count": null,
   "id": "2661005f",
   "metadata": {},
   "outputs": [],
   "source": [
    "import numpy as np\n",
    "import matplotlib.pyplot as plt\n",
    "from scipy.sparse import diags, kron, identity\n",
    "from scipy.sparse.linalg import spsolve"
   ]
  },
  {
   "cell_type": "markdown",
   "id": "1bfb5f6f",
   "metadata": {},
   "source": [
    "## Define the problem parameters and domain"
   ]
  },
  {
   "cell_type": "code",
   "execution_count": null,
   "id": "c59a2169",
   "metadata": {},
   "outputs": [],
   "source": [
    "# Domain parameters\n",
    "nx, ny = 50, 50\n",
    "Lx, Ly = 1.0, 1.0\n",
    "hx, hy = Lx / (nx + 1), Ly / (ny + 1)\n",
    "\n",
    "# Grid points\n",
    "x = np.linspace(hx, Lx - hx, nx)\n",
    "y = np.linspace(hy, Ly - hy, ny)\n",
    "X, Y = np.meshgrid(x, y, indexing='ij')\n",
    "\n",
    "# Right-hand side function f(x, y)\n",
    "f = lambda x, y: np.sin(np.pi * x) * np.sin(np.pi * y)\n",
    "F = f(X, Y).reshape(-1)"
   ]
  },
  {
   "cell_type": "markdown",
   "id": "31d5b61b",
   "metadata": {},
   "source": [
    "## Discretize the Laplacian using finite differences"
   ]
  },
  {
   "cell_type": "code",
   "execution_count": null,
   "id": "6f2d87a6",
   "metadata": {},
   "outputs": [],
   "source": [
    "# 1D second difference matrix\n",
    "def create_1d_matrix(n, h):\n",
    "    main_diag = 2.0 * np.ones(n)\n",
    "    off_diag = -1.0 * np.ones(n - 1)\n",
    "    return diags([off_diag, main_diag, off_diag], [-1, 0, 1]) / h**2\n",
    "\n",
    "# 2D Laplacian operator\n",
    "Lx_mat = create_1d_matrix(nx, hx)\n",
    "Ly_mat = create_1d_matrix(ny, hy)\n",
    "Laplacian = kron(identity(ny), Lx_mat) + kron(Ly_mat, identity(nx))"
   ]
  },
  {
   "cell_type": "markdown",
   "id": "a88f328a",
   "metadata": {},
   "source": [
    "## Solve the linear system"
   ]
  },
  {
   "cell_type": "code",
   "execution_count": null,
   "id": "3532e215",
   "metadata": {},
   "outputs": [],
   "source": [
    "# Solve the linear system\n",
    "u = spsolve(Laplacian, F)\n",
    "U = u.reshape((nx, ny))"
   ]
  },
  {
   "cell_type": "markdown",
   "id": "a58e980e",
   "metadata": {},
   "source": [
    "## Plot the solution"
   ]
  },
  {
   "cell_type": "code",
   "execution_count": null,
   "id": "38bb1655",
   "metadata": {},
   "outputs": [],
   "source": [
    "fig = plt.figure(figsize=(8, 6))\n",
    "ax = fig.add_subplot(111, projection='3d')\n",
    "ax.plot_surface(X, Y, U, cmap='viridis')\n",
    "ax.set_title(\"Solution of the 2D Poisson Equation\")\n",
    "ax.set_xlabel(\"x\")\n",
    "ax.set_ylabel(\"y\")\n",
    "ax.set_zlabel(\"u(x, y)\")\n",
    "plt.tight_layout()\n",
    "plt.show()"
   ]
  }
 ],
 "metadata": {},
 "nbformat": 4,
 "nbformat_minor": 5
}
