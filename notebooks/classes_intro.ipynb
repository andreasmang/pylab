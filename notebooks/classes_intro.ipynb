{
 "cells": [
  {
   "cell_type": "markdown",
   "id": "b622b48e",
   "metadata": {},
   "source": [
    "# 🧱 Understanding Classes in Python\n",
    "This notebook explains the basics of classes in Python, including constructors, methods, inheritance, and encapsulation."
   ]
  },
  {
   "cell_type": "markdown",
   "id": "7ad25178",
   "metadata": {},
   "source": [
    "## 1. Defining a Class"
   ]
  },
  {
   "cell_type": "code",
   "execution_count": null,
   "id": "8a444d68",
   "metadata": {},
   "outputs": [],
   "source": [
    "class Person:\n",
    "    def __init__(self, name, age):\n",
    "        self.name = name\n",
    "        self.age = age\n",
    "\n",
    "    def greet(self):\n",
    "        print(f\"Hello, my name is {self.name} and I am {self.age} years old.\")"
   ]
  },
  {
   "cell_type": "markdown",
   "id": "21c02d25",
   "metadata": {},
   "source": [
    "## 2. Creating an Object"
   ]
  },
  {
   "cell_type": "code",
   "execution_count": null,
   "id": "ef84448f",
   "metadata": {},
   "outputs": [],
   "source": [
    "p = Person(\"Alice\", 30)\n",
    "p.greet()"
   ]
  },
  {
   "cell_type": "markdown",
   "id": "4f12d86a",
   "metadata": {},
   "source": [
    "## 3. Class vs Instance Variables"
   ]
  },
  {
   "cell_type": "code",
   "execution_count": null,
   "id": "cbc11362",
   "metadata": {},
   "outputs": [],
   "source": [
    "class Dog:\n",
    "    species = \"Canis familiaris\"  # Class variable\n",
    "\n",
    "    def __init__(self, name):\n",
    "        self.name = name  # Instance variable\n",
    "\n",
    "dog1 = Dog(\"Buddy\")\n",
    "print(dog1.name)\n",
    "print(Dog.species)"
   ]
  },
  {
   "cell_type": "markdown",
   "id": "a89e7e71",
   "metadata": {},
   "source": [
    "## 4. Inheritance"
   ]
  },
  {
   "cell_type": "code",
   "execution_count": null,
   "id": "1afa5a86",
   "metadata": {},
   "outputs": [],
   "source": [
    "class Animal:\n",
    "    def speak(self):\n",
    "        print(\"Makes a sound\")\n",
    "\n",
    "class Dog(Animal):\n",
    "    def speak(self):\n",
    "        print(\"Barks\")\n",
    "\n",
    "d = Dog()\n",
    "d.speak()"
   ]
  },
  {
   "cell_type": "markdown",
   "id": "dda22207",
   "metadata": {},
   "source": [
    "## 5. Encapsulation"
   ]
  },
  {
   "cell_type": "code",
   "execution_count": null,
   "id": "741c5f21",
   "metadata": {},
   "outputs": [],
   "source": [
    "class BankAccount:\n",
    "    def __init__(self, balance):\n",
    "        self.__balance = balance  # Private variable\n",
    "\n",
    "    def deposit(self, amount):\n",
    "        self.__balance += amount\n",
    "\n",
    "    def get_balance(self):\n",
    "        return self.__balance\n",
    "\n",
    "account = BankAccount(100)\n",
    "account.deposit(50)\n",
    "print(account.get_balance())"
   ]
  },
  {
   "cell_type": "markdown",
   "id": "770e4749",
   "metadata": {},
   "source": [
    "## 📝 Conclusion\n",
    "Python classes let you model real-world entities by combining data and behavior. You now know how to define classes, use inheritance, and encapsulate data securely."
   ]
  }
 ],
 "metadata": {
  "kernelspec": {
   "display_name": "Python 3 (ipykernel)",
   "language": "python",
   "name": "python3"
  },
  "language_info": {
   "codemirror_mode": {
    "name": "ipython",
    "version": 3
   },
   "file_extension": ".py",
   "mimetype": "text/x-python",
   "name": "python",
   "nbconvert_exporter": "python",
   "pygments_lexer": "ipython3",
   "version": "3.9.6"
  }
 },
 "nbformat": 4,
 "nbformat_minor": 5
}
